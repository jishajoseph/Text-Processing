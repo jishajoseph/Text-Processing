{
 "cells": [
  {
   "cell_type": "markdown",
   "metadata": {},
   "source": [
    "# CSE7124c Lab - Text Preprocessing"
   ]
  },
  {
   "cell_type": "markdown",
   "metadata": {},
   "source": [
    "Natural Language Toolkit\n",
    "\n",
    "NLTK is a leading platform for building Python programs to work with human language data. It provides easy-to-use interfaces to over 50 corpora and lexical resources such as WordNet, along with a suite of text processing libraries for classification, tokenization, stemming, tagging, parsing, and semantic reasoning, wrappers for industrial-strength NLP libraries, and an active discussion forum. Thanks to a hands-on guide introducing programming fundamentals alongside topics in computational linguistics, plus comprehensive API documentation, NLTK is suitable for linguists, engineers, students, educators, researchers, and industry users alike. NLTK is available for Windows, Mac OS X, and Linux. Best of all, NLTK is a free, open source, community-driven project. For more details - www.nltk.org"
   ]
  },
  {
   "cell_type": "code",
   "execution_count": 1,
   "metadata": {},
   "outputs": [
    {
     "name": "stdout",
     "output_type": "stream",
     "text": [
      "showing info https://raw.githubusercontent.com/nltk/nltk_data/gh-pages/index.xml\n"
     ]
    }
   ],
   "source": [
    "import nltk\n",
    "#nltk.download()\n",
    "from nltk.tokenize import word_tokenize, sent_tokenize"
   ]
  },
  {
   "cell_type": "code",
   "execution_count": 2,
   "metadata": {},
   "outputs": [],
   "source": [
    "string = '''\n",
    "At Waterloo we were fortunate in catching a train for Leatherhead, where we hired a trap at the station inn and drove for four or five miles through the lovely Surrey lanes. \n",
    "It was a perfect day, with a bright sun and a few fleecy clouds in the heavens. \n",
    "The trees and wayside hedges were just throwing out their first green shoots, and the air was full of the pleasant smell of the moist earth. To me at least there was a strange contrast between the sweet promise of the spring and this sinister quest upon which we were engaged. \n",
    "My companion Mr. Alfred sat in the front of the trap, his arms folded, his hat pulled down over his eyes, and his chin sunk upon his breast, buried in the deepest thought. \n",
    "Suddenly, however, he started, tapped me on the shoulder, and pointed over the meadows.\n",
    "At Waterloo we were fortunate in catching a train for Leatherhead, where we hired a trap at the station inn and drove for four or five miles through the lovely Surrey lanes. \n",
    "It was a perfect day, with a bright sun and a few fleecy clouds in the heavens. \n",
    "'''"
   ]
  },
  {
   "cell_type": "code",
   "execution_count": 3,
   "metadata": {},
   "outputs": [
    {
     "data": {
      "text/plain": [
       "1052"
      ]
     },
     "execution_count": 3,
     "metadata": {},
     "output_type": "execute_result"
    }
   ],
   "source": [
    "len(string)"
   ]
  },
  {
   "cell_type": "markdown",
   "metadata": {},
   "source": [
    "# Tokenizing"
   ]
  },
  {
   "cell_type": "code",
   "execution_count": 6,
   "metadata": {},
   "outputs": [
    {
     "name": "stdout",
     "output_type": "stream",
     "text": [
      "['\\nAt Waterloo we were fortunate in catching a train for Leatherhead, where we hired a trap at the station inn and drove for four or five miles through the lovely Surrey lanes.', 'It was a perfect day, with a bright sun and a few fleecy clouds in the heavens.', 'The trees and wayside hedges were just throwing out their first green shoots, and the air was full of the pleasant smell of the moist earth.', 'To me at least there was a strange contrast between the sweet promise of the spring and this sinister quest upon which we were engaged.', 'My companion Mr. Alfred sat in the front of the trap, his arms folded, his hat pulled down over his eyes, and his chin sunk upon his breast, buried in the deepest thought.', 'Suddenly, however, he started, tapped me on the shoulder, and pointed over the meadows.', 'At Waterloo we were fortunate in catching a train for Leatherhead, where we hired a trap at the station inn and drove for four or five miles through the lovely Surrey lanes.', 'It was a perfect day, with a bright sun and a few fleecy clouds in the heavens.']\n",
      "\n",
      "At Waterloo we were fortunate in catching a train for Leatherhead, where we hired a trap at the station inn and drove for four or five miles through the lovely Surrey lanes.\n"
     ]
    }
   ],
   "source": [
    "sent_tokens = sent_tokenize(string)\n",
    "print(sent_tokens)\n",
    "print(sent_tokens[0])"
   ]
  },
  {
   "cell_type": "code",
   "execution_count": 7,
   "metadata": {},
   "outputs": [
    {
     "name": "stdout",
     "output_type": "stream",
     "text": [
      "['At', 'Waterloo', 'we', 'were', 'fortunate', 'in', 'catching', 'a', 'train', 'for', 'Leatherhead', ',', 'where', 'we', 'hired', 'a', 'trap', 'at', 'the', 'station', 'inn', 'and', 'drove', 'for', 'four', 'or', 'five', 'miles', 'through', 'the', 'lovely', 'Surrey', 'lanes', '.', 'It', 'was', 'a', 'perfect', 'day', ',', 'with', 'a', 'bright', 'sun', 'and', 'a', 'few', 'fleecy', 'clouds', 'in', 'the', 'heavens', '.', 'The', 'trees', 'and', 'wayside', 'hedges', 'were', 'just', 'throwing', 'out', 'their', 'first', 'green', 'shoots', ',', 'and', 'the', 'air', 'was', 'full', 'of', 'the', 'pleasant', 'smell', 'of', 'the', 'moist', 'earth', '.', 'To', 'me', 'at', 'least', 'there', 'was', 'a', 'strange', 'contrast', 'between', 'the', 'sweet', 'promise', 'of', 'the', 'spring', 'and', 'this', 'sinister', 'quest', 'upon', 'which', 'we', 'were', 'engaged', '.', 'My', 'companion', 'Mr.', 'Alfred', 'sat', 'in', 'the', 'front', 'of', 'the', 'trap', ',', 'his', 'arms', 'folded', ',', 'his', 'hat', 'pulled', 'down', 'over', 'his', 'eyes', ',', 'and', 'his', 'chin', 'sunk', 'upon', 'his', 'breast', ',', 'buried', 'in', 'the', 'deepest', 'thought', '.', 'Suddenly', ',', 'however', ',', 'he', 'started', ',', 'tapped', 'me', 'on', 'the', 'shoulder', ',', 'and', 'pointed', 'over', 'the', 'meadows', '.', 'At', 'Waterloo', 'we', 'were', 'fortunate', 'in', 'catching', 'a', 'train', 'for', 'Leatherhead', ',', 'where', 'we', 'hired', 'a', 'trap', 'at', 'the', 'station', 'inn', 'and', 'drove', 'for', 'four', 'or', 'five', 'miles', 'through', 'the', 'lovely', 'Surrey', 'lanes', '.', 'It', 'was', 'a', 'perfect', 'day', ',', 'with', 'a', 'bright', 'sun', 'and', 'a', 'few', 'fleecy', 'clouds', 'in', 'the', 'heavens', '.']\n"
     ]
    }
   ],
   "source": [
    "tokens = word_tokenize(string)\n",
    "print(tokens)"
   ]
  },
  {
   "cell_type": "markdown",
   "metadata": {},
   "source": [
    "word_tokenize - splits strings to words and seperates punctuations also."
   ]
  },
  {
   "cell_type": "markdown",
   "metadata": {},
   "source": [
    "## Regular-Expression Tokenizers\n",
    "\n",
    "A RegexpTokenizer splits a string into substrings using a regular expression. For example, the following tokenizer forms tokens out of alphabetic sequences, money expressions, and any other non-whitespace sequences:('\\w+|$[\\d.]+|\\S+') For more information or different variations - http://www.nltk.org/api/nltk.tokenize.html#module-nltk.tokenize http://www.nltk.org/howto/tokenize.html"
   ]
  },
  {
   "cell_type": "markdown",
   "metadata": {},
   "source": [
    "Regular Expressions \n",
    "1. \\d - Matches any decimal digit; this is equivalent to the class [0-9].\n",
    "2. \\D - Matches any non-digit character; this is equivalent to the class [^0-9].\n",
    "3. \\s - Matches any whitespace character; this is equivalent to the class [ \\t\\n\\r\\f\\v].\n",
    "4. \\S - Matches any non-whitespace character; this is equivalent to the class [^ \\t\\n\\r\\f\\v].\n",
    "5. \\w - Matches any alphanumeric character; this is equivalent to the class [a-zA-Z0-9_].\n",
    "6. \\W - Matches any non-alphanumeric character; this is equivalent to the class [^a-zA-Z0-9_].\n",
    "\n",
    "The special characters are:\n",
    "\n",
    "7. '.' - (Dot.) In the default mode, this matches any character except a newline. If the DOTALL flag has been specified, this             matches any character including a newline.\n",
    "8. '^' - (Caret.) Matches the start of the string, and in MULTILINE mode also matches immediately after each newline.\n",
    "9. '$' - Matches the end of the string or just before the newline at the end of the string, and in MULTILINE mode also matches            before a newline. \n",
    "10. '*' - Causes the resulting RE to match 0 or more repetitions of the preceding RE, as many repetitions as are possible. ab*             will match ‘a’, ‘ab’, or ‘a’ followed by any number of ‘b’s.\n",
    "11. '+' - Causes the resulting RE to match 1 or more repetitions of the preceding RE. ab+ will match ‘a’ followed by any non-             zero number of ‘b’s; it will not match just ‘a’.\n",
    "12. '?' - Causes the resulting RE to match 0 or 1 repetitions of the preceding RE. ab? will match either ‘a’ or ‘ab’.\n",
    "13. '\\' - Either escapes special characters (permitting you to match characters like '*', '?', and so forth), or signals a                 special sequence; special sequences are discussed below.\n",
    "14. [] - Used to indicate a set of characters. In a set: Example: Characters can be listed individually, e.g. [amk] will match            'a', 'm', or 'k'.\n",
    "15. '|' - A|B, where A and B can be arbitrary REs, creates a regular expression that will match either A or B. An arbitrary               number of REs can be separated by the '|' in this way.\n",
    "16. (...) - Matches whatever regular expression is inside the parentheses, and indicates the start and end of a group; the                   contents of a group can be retrieved after a match has been performed, and can be matched later in the string with             the \\number special sequence, described below. To match the literals '(' or ')', use \\( or \\), or enclose them                 inside a character class: [(] [)].\n",
    "17. {m} - Specifies that exactly m copies of the previous RE should be matched; fewer matches cause the entire RE not to match.           For example, a{6} will match exactly six 'a' characters, but not five.\n",
    "18. {m,n} - Causes the resulting RE to match from m to n repetitions of the preceding RE, attempting to match as many                       repetitions as possible. For example, a{3,5} will match from 3 to 5 'a' characters."
   ]
  },
  {
   "cell_type": "code",
   "execution_count": 8,
   "metadata": {},
   "outputs": [
    {
     "name": "stdout",
     "output_type": "stream",
     "text": [
      "RegexpTokenizer(pattern='\\\\w+', gaps=False, discard_empty=True, flags=<RegexFlag.UNICODE|DOTALL|MULTILINE: 56>)\n",
      "['At', 'Waterloo', 'we', 'were', 'fortunate', 'in', 'catching', 'a', 'train', 'for', 'Leatherhead', 'where', 'we', 'hired', 'a', 'trap', 'at', 'the', 'station', 'inn', 'and', 'drove', 'for', 'four', 'or', 'five', 'miles', 'through', 'the', 'lovely', 'Surrey', 'lanes', 'It', 'was', 'a', 'perfect', 'day', 'with', 'a', 'bright', 'sun', 'and', 'a', 'few', 'fleecy', 'clouds', 'in', 'the', 'heavens', 'The', 'trees', 'and', 'wayside', 'hedges', 'were', 'just', 'throwing', 'out', 'their', 'first', 'green', 'shoots', 'and', 'the', 'air', 'was', 'full', 'of', 'the', 'pleasant', 'smell', 'of', 'the', 'moist', 'earth', 'To', 'me', 'at', 'least', 'there', 'was', 'a', 'strange', 'contrast', 'between', 'the', 'sweet', 'promise', 'of', 'the', 'spring', 'and', 'this', 'sinister', 'quest', 'upon', 'which', 'we', 'were', 'engaged', 'My', 'companion', 'Mr', 'Alfred', 'sat', 'in', 'the', 'front', 'of', 'the', 'trap', 'his', 'arms', 'folded', 'his', 'hat', 'pulled', 'down', 'over', 'his', 'eyes', 'and', 'his', 'chin', 'sunk', 'upon', 'his', 'breast', 'buried', 'in', 'the', 'deepest', 'thought', 'Suddenly', 'however', 'he', 'started', 'tapped', 'me', 'on', 'the', 'shoulder', 'and', 'pointed', 'over', 'the', 'meadows', 'At', 'Waterloo', 'we', 'were', 'fortunate', 'in', 'catching', 'a', 'train', 'for', 'Leatherhead', 'where', 'we', 'hired', 'a', 'trap', 'at', 'the', 'station', 'inn', 'and', 'drove', 'for', 'four', 'or', 'five', 'miles', 'through', 'the', 'lovely', 'Surrey', 'lanes', 'It', 'was', 'a', 'perfect', 'day', 'with', 'a', 'bright', 'sun', 'and', 'a', 'few', 'fleecy', 'clouds', 'in', 'the', 'heavens']\n"
     ]
    }
   ],
   "source": [
    "from nltk.corpus import RegexpTokenizer as regextoken\n",
    "tokenizer = regextoken(r'\\w+')\n",
    "print(tokenizer)\n",
    "tokens = tokenizer.tokenize(string)\n",
    "print(tokens)"
   ]
  },
  {
   "cell_type": "code",
   "execution_count": 9,
   "metadata": {},
   "outputs": [
    {
     "name": "stdout",
     "output_type": "stream",
     "text": [
      "['at', 'waterloo', 'we', 'were', 'fortunate', 'in', 'catching', 'a', 'train', 'for', 'leatherhead', 'where', 'we', 'hired', 'a', 'trap', 'at', 'the', 'station', 'inn', 'and', 'drove', 'for', 'four', 'or', 'five', 'miles', 'through', 'the', 'lovely', 'surrey', 'lanes', 'it', 'was', 'a', 'perfect', 'day', 'with', 'a', 'bright', 'sun', 'and', 'a', 'few', 'fleecy', 'clouds', 'in', 'the', 'heavens', 'the', 'trees', 'and', 'wayside', 'hedges', 'were', 'just', 'throwing', 'out', 'their', 'first', 'green', 'shoots', 'and', 'the', 'air', 'was', 'full', 'of', 'the', 'pleasant', 'smell', 'of', 'the', 'moist', 'earth', 'to', 'me', 'at', 'least', 'there', 'was', 'a', 'strange', 'contrast', 'between', 'the', 'sweet', 'promise', 'of', 'the', 'spring', 'and', 'this', 'sinister', 'quest', 'upon', 'which', 'we', 'were', 'engaged', 'my', 'companion', 'mr', 'alfred', 'sat', 'in', 'the', 'front', 'of', 'the', 'trap', 'his', 'arms', 'folded', 'his', 'hat', 'pulled', 'down', 'over', 'his', 'eyes', 'and', 'his', 'chin', 'sunk', 'upon', 'his', 'breast', 'buried', 'in', 'the', 'deepest', 'thought', 'suddenly', 'however', 'he', 'started', 'tapped', 'me', 'on', 'the', 'shoulder', 'and', 'pointed', 'over', 'the', 'meadows', 'at', 'waterloo', 'we', 'were', 'fortunate', 'in', 'catching', 'a', 'train', 'for', 'leatherhead', 'where', 'we', 'hired', 'a', 'trap', 'at', 'the', 'station', 'inn', 'and', 'drove', 'for', 'four', 'or', 'five', 'miles', 'through', 'the', 'lovely', 'surrey', 'lanes', 'it', 'was', 'a', 'perfect', 'day', 'with', 'a', 'bright', 'sun', 'and', 'a', 'few', 'fleecy', 'clouds', 'in', 'the', 'heavens']\n"
     ]
    }
   ],
   "source": [
    "tokens = [token.lower() for token in tokens] # Converting list of token to lower case\n",
    "print(tokens)"
   ]
  },
  {
   "cell_type": "markdown",
   "metadata": {},
   "source": [
    "# Stopwords"
   ]
  },
  {
   "cell_type": "markdown",
   "metadata": {},
   "source": [
    "A stop word is a commonly used word (such as “the”, “a”, “an”, “in”) that a search engine has been programmed to ignore, both when indexing entries for searching and when retrieving them as the result of a search query.\n",
    "\n",
    "We would not want these words taking up space in our database, or taking up valuable processing time. For this, we can remove them easily, by storing a list of words that you consider to be stop words. NLTK(Natural Language Toolkit) in python has a list of stopwords stored in 16 different languages. You can find them in the nltk_data directory.To check the list of stopwords you can type the following commands in the python shell.\n",
    "\n",
    "Note: You can even modify the list by adding words of your choice in the english .txt. file in the stopwords directory."
   ]
  },
  {
   "cell_type": "code",
   "execution_count": 10,
   "metadata": {},
   "outputs": [
    {
     "data": {
      "text/plain": [
       "{'a',\n",
       " 'about',\n",
       " 'above',\n",
       " 'after',\n",
       " 'again',\n",
       " 'against',\n",
       " 'ain',\n",
       " 'all',\n",
       " 'am',\n",
       " 'an',\n",
       " 'and',\n",
       " 'any',\n",
       " 'are',\n",
       " 'aren',\n",
       " \"aren't\",\n",
       " 'as',\n",
       " 'at',\n",
       " 'be',\n",
       " 'because',\n",
       " 'been',\n",
       " 'before',\n",
       " 'being',\n",
       " 'below',\n",
       " 'between',\n",
       " 'both',\n",
       " 'but',\n",
       " 'by',\n",
       " 'can',\n",
       " 'couldn',\n",
       " \"couldn't\",\n",
       " 'd',\n",
       " 'did',\n",
       " 'didn',\n",
       " \"didn't\",\n",
       " 'do',\n",
       " 'does',\n",
       " 'doesn',\n",
       " \"doesn't\",\n",
       " 'doing',\n",
       " 'don',\n",
       " \"don't\",\n",
       " 'down',\n",
       " 'during',\n",
       " 'each',\n",
       " 'few',\n",
       " 'for',\n",
       " 'from',\n",
       " 'further',\n",
       " 'had',\n",
       " 'hadn',\n",
       " \"hadn't\",\n",
       " 'has',\n",
       " 'hasn',\n",
       " \"hasn't\",\n",
       " 'have',\n",
       " 'haven',\n",
       " \"haven't\",\n",
       " 'having',\n",
       " 'he',\n",
       " 'her',\n",
       " 'here',\n",
       " 'hers',\n",
       " 'herself',\n",
       " 'him',\n",
       " 'himself',\n",
       " 'his',\n",
       " 'how',\n",
       " 'i',\n",
       " 'if',\n",
       " 'in',\n",
       " 'into',\n",
       " 'is',\n",
       " 'isn',\n",
       " \"isn't\",\n",
       " 'it',\n",
       " \"it's\",\n",
       " 'its',\n",
       " 'itself',\n",
       " 'just',\n",
       " 'll',\n",
       " 'm',\n",
       " 'ma',\n",
       " 'me',\n",
       " 'mightn',\n",
       " \"mightn't\",\n",
       " 'more',\n",
       " 'most',\n",
       " 'mustn',\n",
       " \"mustn't\",\n",
       " 'my',\n",
       " 'myself',\n",
       " 'needn',\n",
       " \"needn't\",\n",
       " 'no',\n",
       " 'nor',\n",
       " 'not',\n",
       " 'now',\n",
       " 'o',\n",
       " 'of',\n",
       " 'off',\n",
       " 'on',\n",
       " 'once',\n",
       " 'only',\n",
       " 'or',\n",
       " 'other',\n",
       " 'our',\n",
       " 'ours',\n",
       " 'ourselves',\n",
       " 'out',\n",
       " 'over',\n",
       " 'own',\n",
       " 're',\n",
       " 's',\n",
       " 'same',\n",
       " 'shan',\n",
       " \"shan't\",\n",
       " 'she',\n",
       " \"she's\",\n",
       " 'should',\n",
       " \"should've\",\n",
       " 'shouldn',\n",
       " \"shouldn't\",\n",
       " 'so',\n",
       " 'some',\n",
       " 'such',\n",
       " 't',\n",
       " 'than',\n",
       " 'that',\n",
       " \"that'll\",\n",
       " 'the',\n",
       " 'their',\n",
       " 'theirs',\n",
       " 'them',\n",
       " 'themselves',\n",
       " 'then',\n",
       " 'there',\n",
       " 'these',\n",
       " 'they',\n",
       " 'this',\n",
       " 'those',\n",
       " 'through',\n",
       " 'to',\n",
       " 'too',\n",
       " 'under',\n",
       " 'until',\n",
       " 'up',\n",
       " 've',\n",
       " 'very',\n",
       " 'was',\n",
       " 'wasn',\n",
       " \"wasn't\",\n",
       " 'we',\n",
       " 'were',\n",
       " 'weren',\n",
       " \"weren't\",\n",
       " 'what',\n",
       " 'when',\n",
       " 'where',\n",
       " 'which',\n",
       " 'while',\n",
       " 'who',\n",
       " 'whom',\n",
       " 'why',\n",
       " 'will',\n",
       " 'with',\n",
       " 'won',\n",
       " \"won't\",\n",
       " 'wouldn',\n",
       " \"wouldn't\",\n",
       " 'y',\n",
       " 'you',\n",
       " \"you'd\",\n",
       " \"you'll\",\n",
       " \"you're\",\n",
       " \"you've\",\n",
       " 'your',\n",
       " 'yours',\n",
       " 'yourself',\n",
       " 'yourselves'}"
      ]
     },
     "execution_count": 10,
     "metadata": {},
     "output_type": "execute_result"
    }
   ],
   "source": [
    "from nltk.corpus import stopwords\n",
    "set(stopwords.words('english'))"
   ]
  },
  {
   "cell_type": "code",
   "execution_count": 11,
   "metadata": {},
   "outputs": [
    {
     "name": "stdout",
     "output_type": "stream",
     "text": [
      "['waterloo', 'fortunate', 'catching', 'train', 'leatherhead', 'hired', 'trap', 'station', 'inn', 'drove', 'four', 'five', 'miles', 'lovely', 'surrey', 'lanes', 'perfect', 'day', 'bright', 'sun', 'fleecy', 'clouds', 'heavens', 'trees', 'wayside', 'hedges', 'throwing', 'first', 'green', 'shoots', 'air', 'full', 'pleasant', 'smell', 'moist', 'earth', 'least', 'strange', 'contrast', 'sweet', 'promise', 'spring', 'sinister', 'quest', 'upon', 'engaged', 'companion', 'mr', 'alfred', 'sat', 'front', 'trap', 'arms', 'folded', 'hat', 'pulled', 'eyes', 'chin', 'sunk', 'upon', 'breast', 'buried', 'deepest', 'thought', 'suddenly', 'however', 'started', 'tapped', 'shoulder', 'pointed', 'meadows', 'waterloo', 'fortunate', 'catching', 'train', 'leatherhead', 'hired', 'trap', 'station', 'inn', 'drove', 'four', 'five', 'miles', 'lovely', 'surrey', 'lanes', 'perfect', 'day', 'bright', 'sun', 'fleecy', 'clouds', 'heavens']\n"
     ]
    }
   ],
   "source": [
    "stop = stopwords.words('english')\n",
    "tokens = [token for token in tokens if token not in stop]\n",
    "print(tokens)"
   ]
  },
  {
   "cell_type": "markdown",
   "metadata": {},
   "source": [
    "# Stemmers and Lemmatizers"
   ]
  },
  {
   "cell_type": "code",
   "execution_count": 12,
   "metadata": {},
   "outputs": [],
   "source": [
    "from nltk.stem import WordNetLemmatizer"
   ]
  },
  {
   "cell_type": "markdown",
   "metadata": {},
   "source": [
    "Stemmers vs. Lemmatizers\n",
    "* Both stemmers and lemmatizers try to bring inflected words to the same form\n",
    "* Stemmers use an algorithmic approach of removing prefixes and suffixes. The result might not be an actual dictionary word.\n",
    "* Lemmatizers use a corpus. The result is always a dictionary word.\n",
    "* Lemmatizers need extra info about the part of speech they are processing. “Calling” can be either a verb or a noun (the calling)\n",
    "* Stemmers are faster than lemmatizers\n",
    "\n",
    "When to use stemmers and when to use lemmatizers? few guidelines:\n",
    "* If speed is important, use stemmers (lemmatizers have to search through a corpus while stemmers do simple operations on a string)\n",
    "* If you just want to make sure that the system you are building is tolerant to inflections, use stemmers (If you query for “best bar in New York”, you’d accept an article on “Best bars in New York 2016″)\n",
    "* If you need the actual dictionary word, use a lemmatizer. (for example, if you are building a natural language generation system)\n",
    "\n",
    "How do stemmers work?\n",
    "\n",
    "* Stemmers are extremely simple to use and very fast. They usually are the preferred choice. They work by applying different transformation rules on the word until no other transformation can be applied.\n",
    "\n",
    "from nltk.stem import SnowballStemmer\n",
    "snow = SnowballStemmer('english')\n",
    "print snow.stem('getting')      # get\n",
    "print snow.stem('rabbits')      # rabbit\n",
    "print snow.stem('xyzing')       # xyze - it even works on non words!\n",
    "print snow.stem('quickly')      # quick\n",
    "print snow.stem('slowly')       # slowli\n",
    "\n",
    "from nltk.stem import SnowballStemmer \n",
    "snow = SnowballStemmer('english') \n",
    "print snow.stem('getting')      # get \n",
    "print snow.stem('rabbits')      # rabbit \n",
    "print snow.stem('xyzing')       # xyze - it even works on non words! \n",
    "print snow.stem('quickly')      # quick \n",
    "print snow.stem('slowly')       # slowli"
   ]
  },
  {
   "cell_type": "markdown",
   "metadata": {},
   "source": [
    "WordNet® is a large lexical database of English. Nouns, verbs, adjectives and adverbs are grouped into sets of cognitive synonyms (synsets), each expressing a distinct concept. WordNet’s structure makes it a useful tool for computational linguistics and natural language processing.\n",
    "\n",
    "WordNet superficially resembles a thesaurus, in that it groups words together based on their meanings. However, there are some important distinctions. First, WordNet interlinks not just word forms—strings of letters—but specific senses of words. As a result, words that are found in close proximity to one another in the network are semantically disambiguated. Second, WordNet labels the semantic relations among words, whereas the groupings of words in a thesaurus does not follow any explicit pattern other than meaning similarity"
   ]
  },
  {
   "cell_type": "code",
   "execution_count": 13,
   "metadata": {},
   "outputs": [
    {
     "name": "stdout",
     "output_type": "stream",
     "text": [
      "['waterloo', 'fortunate', 'catching', 'train', 'leatherhead', 'hired', 'trap', 'station', 'inn', 'drove', 'four', 'five', 'mile', 'lovely', 'surrey', 'lane', 'perfect', 'day', 'bright', 'sun', 'fleecy', 'cloud', 'heaven', 'tree', 'wayside', 'hedge', 'throwing', 'first', 'green', 'shoot', 'air', 'full', 'pleasant', 'smell', 'moist', 'earth', 'least', 'strange', 'contrast', 'sweet', 'promise', 'spring', 'sinister', 'quest', 'upon', 'engaged', 'companion', 'mr', 'alfred', 'sat', 'front', 'trap', 'arm', 'folded', 'hat', 'pulled', 'eye', 'chin', 'sunk', 'upon', 'breast', 'buried', 'deepest', 'thought', 'suddenly', 'however', 'started', 'tapped', 'shoulder', 'pointed', 'meadow', 'waterloo', 'fortunate', 'catching', 'train', 'leatherhead', 'hired', 'trap', 'station', 'inn', 'drove', 'four', 'five', 'mile', 'lovely', 'surrey', 'lane', 'perfect', 'day', 'bright', 'sun', 'fleecy', 'cloud', 'heaven']\n"
     ]
    }
   ],
   "source": [
    "lmtzr = WordNetLemmatizer()\n",
    "tokens = [lmtzr.lemmatize(token) for token in tokens]\n",
    "print(tokens)"
   ]
  },
  {
   "cell_type": "code",
   "execution_count": 14,
   "metadata": {},
   "outputs": [
    {
     "name": "stdout",
     "output_type": "stream",
     "text": [
      "computer\n",
      "comput\n",
      "comput\n"
     ]
    }
   ],
   "source": [
    "print(WordNetLemmatizer().lemmatize('computer'))\n",
    "from nltk.stem.porter import PorterStemmer\n",
    "from nltk.stem.snowball import SnowballStemmer\n",
    "porter=PorterStemmer()\n",
    "snowball=SnowballStemmer('english')\n",
    "print(porter.stem('computer'))\n",
    "print(snowball.stem('computer'))"
   ]
  },
  {
   "cell_type": "code",
   "execution_count": 15,
   "metadata": {},
   "outputs": [
    {
     "name": "stdout",
     "output_type": "stream",
     "text": [
      "['be', 'be', 'be', 'be', 'be', 'be']\n"
     ]
    }
   ],
   "source": [
    "tokens_new = [\"am\", \"be\", \"are\", \"is\", \"was\", \"were\"]\n",
    "lmtzr = WordNetLemmatizer()\n",
    "tokens_new = [lmtzr.lemmatize(token,pos = \"v\") for token in tokens_new]\n",
    "print(tokens_new)"
   ]
  },
  {
   "cell_type": "markdown",
   "metadata": {},
   "source": [
    "## N-grams"
   ]
  },
  {
   "cell_type": "markdown",
   "metadata": {},
   "source": [
    "How would you classify or group your documents/ tweets based on these? Do single words make sense? Need to capture the context between words. Hence, we have to use ngrams to capture two or three or four words together."
   ]
  },
  {
   "cell_type": "code",
   "execution_count": 16,
   "metadata": {},
   "outputs": [
    {
     "name": "stdout",
     "output_type": "stream",
     "text": [
      "('waterloo', 'fortunate', 'catching')\n",
      "('fortunate', 'catching', 'train')\n",
      "('catching', 'train', 'leatherhead')\n",
      "('train', 'leatherhead', 'hired')\n",
      "('leatherhead', 'hired', 'trap')\n",
      "('hired', 'trap', 'station')\n",
      "('trap', 'station', 'inn')\n",
      "('station', 'inn', 'drove')\n",
      "('inn', 'drove', 'four')\n",
      "('drove', 'four', 'five')\n",
      "('four', 'five', 'mile')\n",
      "('five', 'mile', 'lovely')\n",
      "('mile', 'lovely', 'surrey')\n",
      "('lovely', 'surrey', 'lane')\n",
      "('surrey', 'lane', 'perfect')\n",
      "('lane', 'perfect', 'day')\n",
      "('perfect', 'day', 'bright')\n",
      "('day', 'bright', 'sun')\n",
      "('bright', 'sun', 'fleecy')\n",
      "('sun', 'fleecy', 'cloud')\n",
      "('fleecy', 'cloud', 'heaven')\n",
      "('cloud', 'heaven', 'tree')\n",
      "('heaven', 'tree', 'wayside')\n",
      "('tree', 'wayside', 'hedge')\n",
      "('wayside', 'hedge', 'throwing')\n",
      "('hedge', 'throwing', 'first')\n",
      "('throwing', 'first', 'green')\n",
      "('first', 'green', 'shoot')\n",
      "('green', 'shoot', 'air')\n",
      "('shoot', 'air', 'full')\n",
      "('air', 'full', 'pleasant')\n",
      "('full', 'pleasant', 'smell')\n",
      "('pleasant', 'smell', 'moist')\n",
      "('smell', 'moist', 'earth')\n",
      "('moist', 'earth', 'least')\n",
      "('earth', 'least', 'strange')\n",
      "('least', 'strange', 'contrast')\n",
      "('strange', 'contrast', 'sweet')\n",
      "('contrast', 'sweet', 'promise')\n",
      "('sweet', 'promise', 'spring')\n",
      "('promise', 'spring', 'sinister')\n",
      "('spring', 'sinister', 'quest')\n",
      "('sinister', 'quest', 'upon')\n",
      "('quest', 'upon', 'engaged')\n",
      "('upon', 'engaged', 'companion')\n",
      "('engaged', 'companion', 'mr')\n",
      "('companion', 'mr', 'alfred')\n",
      "('mr', 'alfred', 'sat')\n",
      "('alfred', 'sat', 'front')\n",
      "('sat', 'front', 'trap')\n",
      "('front', 'trap', 'arm')\n",
      "('trap', 'arm', 'folded')\n",
      "('arm', 'folded', 'hat')\n",
      "('folded', 'hat', 'pulled')\n",
      "('hat', 'pulled', 'eye')\n",
      "('pulled', 'eye', 'chin')\n",
      "('eye', 'chin', 'sunk')\n",
      "('chin', 'sunk', 'upon')\n",
      "('sunk', 'upon', 'breast')\n",
      "('upon', 'breast', 'buried')\n",
      "('breast', 'buried', 'deepest')\n",
      "('buried', 'deepest', 'thought')\n",
      "('deepest', 'thought', 'suddenly')\n",
      "('thought', 'suddenly', 'however')\n",
      "('suddenly', 'however', 'started')\n",
      "('however', 'started', 'tapped')\n",
      "('started', 'tapped', 'shoulder')\n",
      "('tapped', 'shoulder', 'pointed')\n",
      "('shoulder', 'pointed', 'meadow')\n",
      "('pointed', 'meadow', 'waterloo')\n",
      "('meadow', 'waterloo', 'fortunate')\n",
      "('waterloo', 'fortunate', 'catching')\n",
      "('fortunate', 'catching', 'train')\n",
      "('catching', 'train', 'leatherhead')\n",
      "('train', 'leatherhead', 'hired')\n",
      "('leatherhead', 'hired', 'trap')\n",
      "('hired', 'trap', 'station')\n",
      "('trap', 'station', 'inn')\n",
      "('station', 'inn', 'drove')\n",
      "('inn', 'drove', 'four')\n",
      "('drove', 'four', 'five')\n",
      "('four', 'five', 'mile')\n",
      "('five', 'mile', 'lovely')\n",
      "('mile', 'lovely', 'surrey')\n",
      "('lovely', 'surrey', 'lane')\n",
      "('surrey', 'lane', 'perfect')\n",
      "('lane', 'perfect', 'day')\n",
      "('perfect', 'day', 'bright')\n",
      "('day', 'bright', 'sun')\n",
      "('bright', 'sun', 'fleecy')\n",
      "('sun', 'fleecy', 'cloud')\n",
      "('fleecy', 'cloud', 'heaven')\n",
      "92\n"
     ]
    }
   ],
   "source": [
    "tmp = 0\n",
    "for ngram in nltk.ngrams(tokens, 3):\n",
    "    print (ngram,)\n",
    "    tmp += 1\n",
    "print(tmp)"
   ]
  },
  {
   "cell_type": "code",
   "execution_count": 17,
   "metadata": {},
   "outputs": [
    {
     "data": {
      "text/plain": [
       "[(('waterloo', 'fortunate'), 2),\n",
       " (('fortunate', 'catching'), 2),\n",
       " (('catching', 'train'), 2),\n",
       " (('train', 'leatherhead'), 2),\n",
       " (('leatherhead', 'hired'), 2),\n",
       " (('hired', 'trap'), 2),\n",
       " (('trap', 'station'), 2),\n",
       " (('station', 'inn'), 2),\n",
       " (('inn', 'drove'), 2),\n",
       " (('drove', 'four'), 2),\n",
       " (('four', 'five'), 2),\n",
       " (('five', 'mile'), 2),\n",
       " (('mile', 'lovely'), 2),\n",
       " (('lovely', 'surrey'), 2),\n",
       " (('surrey', 'lane'), 2),\n",
       " (('lane', 'perfect'), 2),\n",
       " (('perfect', 'day'), 2),\n",
       " (('day', 'bright'), 2),\n",
       " (('bright', 'sun'), 2),\n",
       " (('sun', 'fleecy'), 2)]"
      ]
     },
     "execution_count": 17,
     "metadata": {},
     "output_type": "execute_result"
    }
   ],
   "source": [
    "ngram_freq = nltk.FreqDist() #WE INITIALIZED A FREQUENCY COUNTER\n",
    "for ngram in nltk.ngrams(tokens, 2):\n",
    "    ngram_freq[ngram] += 1\n",
    "    \n",
    "ngram_freq.most_common(20)"
   ]
  },
  {
   "cell_type": "markdown",
   "metadata": {},
   "source": [
    "Let's combine all the above commands into a single function"
   ]
  },
  {
   "cell_type": "code",
   "execution_count": 18,
   "metadata": {},
   "outputs": [],
   "source": [
    "def process_text(text):\n",
    "    sentences = nltk.tokenize.sent_tokenize(text)\n",
    "    sentence_tokens = [tokenizer.tokenize(sentence) for sentence in sentences]#list of lists\n",
    "    tokens = [] # initialising variable\n",
    "    for sentence in sentence_tokens:\n",
    "        sent = []\n",
    "        for word in sentence:\n",
    "            if word.lower() not in stop:\n",
    "                sent.append(word.lower())\n",
    "        tokens.append(sent)\n",
    "    ##THE SAME FOR LOOP CAN BE WRITTEN AS FOLLOWS\n",
    "    ##tokens = [[word.lower() for word in sent if word not in stop] for sent in sentence_tokens]\n",
    "    tokens = [[lmtzr.lemmatize(word) for word in sent] for sent in tokens]\n",
    "    return tokens\n",
    "\n",
    "def process_ngrams(input_sentence_tokens):\n",
    "    ngram_list = []\n",
    "    for sentence in input_sentence_tokens:\n",
    "        ngram_sent = nltk.ngrams(sentence, 2, pad_right = True, right_pad_symbol='<e>', pad_left=True, left_pad_symbol='<s>')\n",
    "        ngram_list = ngram_list + list(ngram_sent)\n",
    "    return ngram_list"
   ]
  },
  {
   "cell_type": "code",
   "execution_count": 19,
   "metadata": {},
   "outputs": [
    {
     "name": "stdout",
     "output_type": "stream",
     "text": [
      "[['waterloo', 'fortunate', 'catching', 'train', 'leatherhead', 'hired', 'trap', 'station', 'inn', 'drove', 'four', 'five', 'mile', 'lovely', 'surrey', 'lane'], ['perfect', 'day', 'bright', 'sun', 'fleecy', 'cloud', 'heaven'], ['tree', 'wayside', 'hedge', 'throwing', 'first', 'green', 'shoot', 'air', 'full', 'pleasant', 'smell', 'moist', 'earth'], ['least', 'strange', 'contrast', 'sweet', 'promise', 'spring', 'sinister', 'quest', 'upon', 'engaged'], ['companion', 'mr', 'alfred', 'sat', 'front', 'trap', 'arm', 'folded', 'hat', 'pulled', 'eye', 'chin', 'sunk', 'upon', 'breast', 'buried', 'deepest', 'thought'], ['suddenly', 'however', 'started', 'tapped', 'shoulder', 'pointed', 'meadow'], ['waterloo', 'fortunate', 'catching', 'train', 'leatherhead', 'hired', 'trap', 'station', 'inn', 'drove', 'four', 'five', 'mile', 'lovely', 'surrey', 'lane'], ['perfect', 'day', 'bright', 'sun', 'fleecy', 'cloud', 'heaven']]\n"
     ]
    }
   ],
   "source": [
    "sentence_tokens = process_text(string)\n",
    "print(sentence_tokens)"
   ]
  },
  {
   "cell_type": "code",
   "execution_count": 20,
   "metadata": {},
   "outputs": [
    {
     "name": "stdout",
     "output_type": "stream",
     "text": [
      "[('<s>', 'waterloo'), ('waterloo', 'fortunate'), ('fortunate', 'catching'), ('catching', 'train'), ('train', 'leatherhead'), ('leatherhead', 'hired'), ('hired', 'trap'), ('trap', 'station'), ('station', 'inn'), ('inn', 'drove'), ('drove', 'four'), ('four', 'five'), ('five', 'mile'), ('mile', 'lovely'), ('lovely', 'surrey'), ('surrey', 'lane'), ('lane', '<e>'), ('<s>', 'perfect'), ('perfect', 'day'), ('day', 'bright'), ('bright', 'sun'), ('sun', 'fleecy'), ('fleecy', 'cloud'), ('cloud', 'heaven'), ('heaven', '<e>'), ('<s>', 'tree'), ('tree', 'wayside'), ('wayside', 'hedge'), ('hedge', 'throwing'), ('throwing', 'first'), ('first', 'green'), ('green', 'shoot'), ('shoot', 'air'), ('air', 'full'), ('full', 'pleasant'), ('pleasant', 'smell'), ('smell', 'moist'), ('moist', 'earth'), ('earth', '<e>'), ('<s>', 'least'), ('least', 'strange'), ('strange', 'contrast'), ('contrast', 'sweet'), ('sweet', 'promise'), ('promise', 'spring'), ('spring', 'sinister'), ('sinister', 'quest'), ('quest', 'upon'), ('upon', 'engaged'), ('engaged', '<e>'), ('<s>', 'companion'), ('companion', 'mr'), ('mr', 'alfred'), ('alfred', 'sat'), ('sat', 'front'), ('front', 'trap'), ('trap', 'arm'), ('arm', 'folded'), ('folded', 'hat'), ('hat', 'pulled'), ('pulled', 'eye'), ('eye', 'chin'), ('chin', 'sunk'), ('sunk', 'upon'), ('upon', 'breast'), ('breast', 'buried'), ('buried', 'deepest'), ('deepest', 'thought'), ('thought', '<e>'), ('<s>', 'suddenly'), ('suddenly', 'however'), ('however', 'started'), ('started', 'tapped'), ('tapped', 'shoulder'), ('shoulder', 'pointed'), ('pointed', 'meadow'), ('meadow', '<e>'), ('<s>', 'waterloo'), ('waterloo', 'fortunate'), ('fortunate', 'catching'), ('catching', 'train'), ('train', 'leatherhead'), ('leatherhead', 'hired'), ('hired', 'trap'), ('trap', 'station'), ('station', 'inn'), ('inn', 'drove'), ('drove', 'four'), ('four', 'five'), ('five', 'mile'), ('mile', 'lovely'), ('lovely', 'surrey'), ('surrey', 'lane'), ('lane', '<e>'), ('<s>', 'perfect'), ('perfect', 'day'), ('day', 'bright'), ('bright', 'sun'), ('sun', 'fleecy'), ('fleecy', 'cloud'), ('cloud', 'heaven'), ('heaven', '<e>')]\n"
     ]
    }
   ],
   "source": [
    "string_ngrams = process_ngrams(sentence_tokens)\n",
    "print(string_ngrams)"
   ]
  },
  {
   "cell_type": "code",
   "execution_count": 21,
   "metadata": {},
   "outputs": [
    {
     "name": "stdout",
     "output_type": "stream",
     "text": [
      "[(('<s>', 'waterloo'), 2), (('waterloo', 'fortunate'), 2), (('fortunate', 'catching'), 2), (('catching', 'train'), 2), (('train', 'leatherhead'), 2), (('leatherhead', 'hired'), 2), (('hired', 'trap'), 2), (('trap', 'station'), 2), (('station', 'inn'), 2), (('inn', 'drove'), 2), (('drove', 'four'), 2), (('four', 'five'), 2), (('five', 'mile'), 2), (('mile', 'lovely'), 2), (('lovely', 'surrey'), 2), (('surrey', 'lane'), 2), (('lane', '<e>'), 2), (('<s>', 'perfect'), 2), (('perfect', 'day'), 2), (('day', 'bright'), 2), (('bright', 'sun'), 2), (('sun', 'fleecy'), 2), (('fleecy', 'cloud'), 2), (('cloud', 'heaven'), 2), (('heaven', '<e>'), 2), (('<s>', 'tree'), 1), (('tree', 'wayside'), 1), (('wayside', 'hedge'), 1), (('hedge', 'throwing'), 1), (('throwing', 'first'), 1), (('first', 'green'), 1), (('green', 'shoot'), 1), (('shoot', 'air'), 1), (('air', 'full'), 1), (('full', 'pleasant'), 1), (('pleasant', 'smell'), 1), (('smell', 'moist'), 1), (('moist', 'earth'), 1), (('earth', '<e>'), 1), (('<s>', 'least'), 1), (('least', 'strange'), 1), (('strange', 'contrast'), 1), (('contrast', 'sweet'), 1), (('sweet', 'promise'), 1), (('promise', 'spring'), 1), (('spring', 'sinister'), 1), (('sinister', 'quest'), 1), (('quest', 'upon'), 1), (('upon', 'engaged'), 1), (('engaged', '<e>'), 1), (('<s>', 'companion'), 1), (('companion', 'mr'), 1), (('mr', 'alfred'), 1), (('alfred', 'sat'), 1), (('sat', 'front'), 1), (('front', 'trap'), 1), (('trap', 'arm'), 1), (('arm', 'folded'), 1), (('folded', 'hat'), 1), (('hat', 'pulled'), 1), (('pulled', 'eye'), 1), (('eye', 'chin'), 1), (('chin', 'sunk'), 1), (('sunk', 'upon'), 1), (('upon', 'breast'), 1), (('breast', 'buried'), 1), (('buried', 'deepest'), 1), (('deepest', 'thought'), 1), (('thought', '<e>'), 1), (('<s>', 'suddenly'), 1), (('suddenly', 'however'), 1), (('however', 'started'), 1), (('started', 'tapped'), 1), (('tapped', 'shoulder'), 1), (('shoulder', 'pointed'), 1), (('pointed', 'meadow'), 1), (('meadow', '<e>'), 1)]\n"
     ]
    }
   ],
   "source": [
    "ngram_freq = nltk.FreqDist() #WE INITIALIZED A FREQUENCY COUNTER\n",
    "for ngram in string_ngrams:\n",
    "    ngram_freq[ngram] += 1\n",
    "print(ngram_freq.most_common())"
   ]
  },
  {
   "cell_type": "code",
   "execution_count": 22,
   "metadata": {},
   "outputs": [
    {
     "data": {
      "text/plain": [
       "<matplotlib.image.AxesImage at 0x1170d588>"
      ]
     },
     "execution_count": 22,
     "metadata": {},
     "output_type": "execute_result"
    },
    {
     "data": {
      "image/png": "[encoded data removed]",
      "text/plain": [
       "<Figure size 432x288 with 1 Axes>"
      ]
     },
     "metadata": {},
     "output_type": "display_data"
    }
   ],
   "source": [
    "from wordcloud import WordCloud\n",
    "wordcloud = WordCloud().generate(string)\n",
    "import matplotlib.pyplot as plt\n",
    "%matplotlib inline\n",
    "plt.imshow(wordcloud)"
   ]
  },
  {
   "cell_type": "code",
   "execution_count": null,
   "metadata": {
    "collapsed": true
   },
   "outputs": [],
   "source": []
  }
 ],
 "metadata": {
  "kernelspec": {
   "display_name": "Python 3",
   "language": "python",
   "name": "python3"
  },
  "language_info": {
   "codemirror_mode": {
    "name": "ipython",
    "version": 3
   },
   "file_extension": ".py",
   "mimetype": "text/x-python",
   "name": "python",
   "nbconvert_exporter": "python",
   "pygments_lexer": "ipython3",
   "version": "3.6.5"
  }
 },
 "nbformat": 4,
 "nbformat_minor": 2
}
